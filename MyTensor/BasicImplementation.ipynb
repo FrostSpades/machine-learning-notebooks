{
 "cells": [
  {
   "cell_type": "code",
   "execution_count": 2,
   "id": "aaf53fd8",
   "metadata": {},
   "outputs": [
    {
     "name": "stderr",
     "output_type": "stream",
     "text": [
      "c:\\users\\emand\\appdata\\local\\programs\\python\\python39\\lib\\site-packages\\keras\\src\\layers\\core\\dense.py:87: UserWarning: Do not pass an `input_shape`/`input_dim` argument to a layer. When using Sequential models, prefer using an `Input(shape)` object as the first layer in the model instead.\n",
      "  super().__init__(activity_regularizer=activity_regularizer, **kwargs)\n"
     ]
    },
    {
     "name": "stdout",
     "output_type": "stream",
     "text": [
      "Input: [0. 1.], Predicted Output: 0\n",
      "Input: [1. 0.], Predicted Output: 0\n",
      "Input: [0. 0.], Predicted Output: 1\n",
      "Input: [1. 1.], Predicted Output: 0\n"
     ]
    }
   ],
   "source": [
    "import tensorflow as tf\n",
    "from tensorflow.keras.models import Sequential\n",
    "from tensorflow.keras.layers import Dense\n",
    "\n",
    "# Create the model\n",
    "model = Sequential([\n",
    "    Dense(units=2, input_dim=2, activation='tanh'),  # Hidden layer\n",
    "    Dense(units=4, activation='tanh'),\n",
    "    Dense(units=1, activation='sigmoid')               # Output layer\n",
    "])\n",
    "\n",
    "# Compile the model\n",
    "model.compile(optimizer='sgd', loss='mse', metrics=['accuracy'])\n",
    "\n",
    "# Example Dataset (XOR-like, single input neuron case)\n",
    "X = tf.constant([[0.0, 1.0], [1.0, 0.0], [0.0, 0.0], [1.0, 1.0]])  # Inputs\n",
    "y = tf.constant([[0], [0], [1], [0]])  # Corresponding outputs\n",
    "\n",
    "# Train the model\n",
    "model.fit(X, y, epochs=1000, verbose=0)  # Training with 1000 epochs\n",
    "\n",
    "# Test the model\n",
    "for x in X:\n",
    "    # Reshape single input to a batch with one sample\n",
    "    x_batch = tf.constant([x.numpy()])  # Add extra dimension for batch\n",
    "    pred = model.predict(x_batch, verbose=0)\n",
    "    print(f\"Input: {x.numpy()}, Predicted Output: {round(pred[0][0])}\")\n",
    "\n"
   ]
  },
  {
   "cell_type": "code",
   "execution_count": 3,
   "id": "97118482",
   "metadata": {},
   "outputs": [
    {
     "name": "stdout",
     "output_type": "stream",
     "text": [
      "Layer 0 Weights: [[ 0.2210936 -0.8902752]\n",
      " [ 0.8239516 -0.6125957]]\n",
      "Layer 0 Biases: [-0.13039072  0.25153247]\n",
      "Layer 1 Weights: [[ 0.68853396 -0.5035588  -0.0798488  -0.33602378]\n",
      " [ 0.01691409 -0.54968256  0.6834315   1.0586222 ]]\n",
      "Layer 1 Biases: [ 0.06435737 -0.05740328 -0.03218207  0.10515415]\n",
      "Layer 2 Weights: [[-0.7879031]\n",
      " [ 0.7047428]\n",
      " [ 1.152326 ]\n",
      " [ 1.1635352]]\n",
      "Layer 2 Biases: [-0.1317011]\n"
     ]
    }
   ],
   "source": [
    "# Get weights of the first Dense layer (hidden layer)\n",
    "hidden_layer_weights = model.layers[0].get_weights()\n",
    "hidden_layer_kernel = hidden_layer_weights[0]  # Weights connecting input to the layer\n",
    "hidden_layer_bias = hidden_layer_weights[1]    # Bias of the layer\n",
    "\n",
    "# Get weights of the second Dense layer (output layer)\n",
    "output_layer_weights = model.layers[1].get_weights()\n",
    "output_layer_kernel = output_layer_weights[0]  # Weights connecting hidden layer to output\n",
    "output_layer_bias = output_layer_weights[1]    # Bias of the output layer\n",
    "\n",
    "for i in range(len(model.layers)):\n",
    "    layer = model.layers[i].get_weights()\n",
    "    layer_weights = layer[0]\n",
    "    layer_biases = layer[1]\n",
    "    \n",
    "    print(f\"Layer {i} Weights: {layer_weights}\")\n",
    "    print(f\"Layer {i} Biases: {layer_biases}\")\n"
   ]
  },
  {
   "cell_type": "code",
   "execution_count": 4,
   "id": "50fc64d0",
   "metadata": {},
   "outputs": [],
   "source": [
    "import math\n",
    "\n",
    "def sigmoid(x):\n",
    "    return 1/(1+np.exp(-x))\n",
    "\n",
    "def mean_squared_loss(pred, actual):\n",
    "    return (pred - actual) ** 2\n",
    "\n",
    "def deriv_sigmoid(y):\n",
    "    return y(1 - y)\n",
    "\n",
    "def deriv_mean_squared_loss(pred, actual):\n",
    "    return 2*(pred - actual)"
   ]
  },
  {
   "cell_type": "code",
   "execution_count": 39,
   "id": "502cda1a",
   "metadata": {},
   "outputs": [
    {
     "data": {
      "text/plain": [
       "[array([[1]]),\n",
       " array([[0.51464568],\n",
       "        [0.58360184]]),\n",
       " array([[0.84835177],\n",
       "        [0.82354412]]),\n",
       " array([[0.82631072],\n",
       "        [0.78178019]])]"
      ]
     },
     "execution_count": 39,
     "metadata": {},
     "output_type": "execute_result"
    }
   ],
   "source": [
    "import numpy as np\n",
    "\n",
    "class Model:\n",
    "    def __init__(self, layers, activation, deriv_activation, loss, deriv_loss):\n",
    "        self.weights, self.biases = self._init_layers(layers)\n",
    "        self.activation = activation\n",
    "        self.deriv_activation = deriv_activation\n",
    "        self.loss = loss\n",
    "        self.deriv_loss = deriv_loss\n",
    "        \n",
    "    def _init_layers(self, layers):\n",
    "        all_weights = []\n",
    "        all_biases = []\n",
    "        for i in range(len(layers) - 1):\n",
    "            weights = np.random.uniform(low=0, high=1, size=(layers[i + 1], layers[i]))\n",
    "            biases = np.random.uniform(low=0, high=1, size=(layers[i + 1], 1))\n",
    "            all_weights.append(weights)\n",
    "            all_biases.append(biases)\n",
    "            \n",
    "        return all_weights, all_biases\n",
    "    \n",
    "    def _forward_pass(self, x_initial):\n",
    "        current_input =  np.array(x_initial).reshape(-1, 1)\n",
    "        values = [current_input]\n",
    "        \n",
    "        for i in range(len(self.weights)):\n",
    "            z = np.matmul(self.weights[i], current_input) + self.biases[i]\n",
    "            output = self.activation(z)\n",
    "            values.append(output)\n",
    "            current_input = output\n",
    "        \n",
    "        return values\n",
    "    \n",
    "    def _backward_pass(self, inputs, outputs):\n",
    "        pass\n",
    "    \n",
    "    \n",
    "example_model = Model([1, 2, 2, 2], sigmoid, deriv_sigmoid, mean_squared_loss, deriv_mean_squared_loss)\n",
    "example_model._forward_pass(np.array([1]).reshape(-1, 1))          "
   ]
  },
  {
   "cell_type": "code",
   "execution_count": null,
   "id": "0aa77d9a",
   "metadata": {},
   "outputs": [],
   "source": []
  },
  {
   "cell_type": "code",
   "execution_count": null,
   "id": "a739da32",
   "metadata": {},
   "outputs": [],
   "source": []
  },
  {
   "cell_type": "code",
   "execution_count": null,
   "id": "63e481ab",
   "metadata": {},
   "outputs": [],
   "source": []
  }
 ],
 "metadata": {
  "kernelspec": {
   "display_name": "Python 3 (ipykernel)",
   "language": "python",
   "name": "python3"
  },
  "language_info": {
   "codemirror_mode": {
    "name": "ipython",
    "version": 3
   },
   "file_extension": ".py",
   "mimetype": "text/x-python",
   "name": "python",
   "nbconvert_exporter": "python",
   "pygments_lexer": "ipython3",
   "version": "3.9.6"
  }
 },
 "nbformat": 4,
 "nbformat_minor": 5
}
